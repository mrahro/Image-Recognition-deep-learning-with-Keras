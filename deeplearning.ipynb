{
 "cells": [
  {
   "cell_type": "markdown",
   "metadata": {},
   "source": [
    "# Deep learning\n",
    "\n",
    "## Identifying food type by tensorflow deep learning model : Keras"
   ]
  },
  {
   "cell_type": "code",
   "execution_count": 1,
   "metadata": {},
   "outputs": [],
   "source": [
    "import os\n",
    "from os import listdir\n",
    "from os.path import isfile, join\n",
    "\n",
    "\n",
    "hot_dog_image_dir = 'input/hot-dog-not-hot-dog/seefood/train/hot_dog'\n",
    "\n",
    "hot_dog_paths = [join(hot_dog_image_dir, f) for f in listdir(hot_dog_image_dir) if isfile(join(hot_dog_image_dir, f))]\n",
    "if hot_dog_image_dir + '/.DS_Store' in hot_dog_paths:\n",
    "    hot_dog_paths.remove(hot_dog_image_dir + '/.DS_Store')\n",
    "not_hot_dog_image_dir = 'input/hot-dog-not-hot-dog/seefood/train/not_hot_dog'\n",
    "not_hot_dog_paths = [join(not_hot_dog_image_dir, f) for f in listdir(not_hot_dog_image_dir) if isfile(join(not_hot_dog_image_dir, f))]\n",
    "if not_hot_dog_image_dir + '/.DS_Store' in not_hot_dog_paths:\n",
    "    not_hot_dog_paths.remove(not_hot_dog_image_dir + '/.DS_Store')\n",
    "img_paths = hot_dog_paths + not_hot_dog_paths\n"
   ]
  },
  {
   "cell_type": "markdown",
   "metadata": {},
   "source": [
    "### loading data and a pre-trained model, and making predictions unsing ResNet50"
   ]
  },
  {
   "cell_type": "code",
   "execution_count": 2,
   "metadata": {},
   "outputs": [
    {
     "name": "stderr",
     "output_type": "stream",
     "text": [
      "Using TensorFlow backend.\n"
     ]
    }
   ],
   "source": [
    "from IPython.display import Image, display\n",
    "import numpy as np\n",
    "from tensorflow.keras.applications.resnet50 import preprocess_input\n",
    "from tensorflow.keras.applications import ResNet50\n",
    "from tensorflow.keras.preprocessing.image import load_img, img_to_array\n",
    "from keras.applications.vgg19 import decode_predictions"
   ]
  },
  {
   "cell_type": "code",
   "execution_count": 3,
   "metadata": {},
   "outputs": [],
   "source": [
    "image_size = 224\n",
    "\n",
    "def read_and_prep_images(img_paths, img_height=image_size, img_width=image_size):\n",
    "    imgs = [load_img(img_path, target_size=(img_height, img_width)) for img_path in img_paths]\n",
    "    img_array = np.array([img_to_array(img) for img in imgs])\n",
    "    output = preprocess_input(img_array)\n",
    "    return(output)\n",
    "\n",
    "my_model = ResNet50(weights='input/resnet50/resnet50_weights_tf_dim_ordering_tf_kernels.h5')\n",
    "test_data = read_and_prep_images(img_paths)\n",
    "preds = my_model.predict(test_data)\n",
    "most_likely_labels = decode_predictions(preds, top=3)"
   ]
  },
  {
   "cell_type": "code",
   "execution_count": 4,
   "metadata": {},
   "outputs": [],
   "source": [
    "def is_hot_dog(preds):\n",
    "    is_hot_dog_list=[]\n",
    "    most_likely_label = decode_predictions(preds, top=1)\n",
    "    for items in most_likely_label:\n",
    "        if items[0][1]=='hotdog':\n",
    "            is_hot_dog_list.append(True)\n",
    "        else:\n",
    "            is_hot_dog_list.append(False)\n",
    "    return(is_hot_dog_list)"
   ]
  },
  {
   "cell_type": "markdown",
   "metadata": {},
   "source": [
    "### Calculating the accuracy of prediction"
   ]
  },
  {
   "cell_type": "code",
   "execution_count": 5,
   "metadata": {},
   "outputs": [
    {
     "name": "stdout",
     "output_type": "stream",
     "text": [
      "Fraction correct in the data: 0.88\n"
     ]
    }
   ],
   "source": [
    "def calc_accuracy(model, paths_to_hotdog_images, paths_to_other_images):\n",
    "    num_hot_dog_images = len(paths_to_hotdog_images)\n",
    "    num_other_images = len(paths_to_other_images)\n",
    "    test_data_hotdog = read_and_prep_images(paths_to_hotdog_images)\n",
    "    preds_hotdog = model.predict(test_data_hotdog)\n",
    "    labels_y = sum(is_hot_dog(preds_hotdog))\n",
    "    accuracy = 0\n",
    "    test_data_not = read_and_prep_images(paths_to_other_images)\n",
    "    preds_not = model.predict(test_data_not)\n",
    "    labels_n = num_other_images - sum(is_hot_dog(preds_not))\n",
    "    total_correct = labels_y + labels_n\n",
    "    total = num_hot_dog_images + num_other_images\n",
    "    return(total_correct/total)\n",
    "\n",
    "# we only apply the model on 50 of the images to speed up the process\n",
    "\n",
    "my_model_accuracy = calc_accuracy(my_model, hot_dog_paths[:50], not_hot_dog_paths[:50])\n",
    "print(\"Fraction correct in the data: {}\".format(my_model_accuracy))"
   ]
  },
  {
   "cell_type": "markdown",
   "metadata": {},
   "source": [
    "### making predictions unsing VGG16 model\n"
   ]
  },
  {
   "cell_type": "code",
   "execution_count": 6,
   "metadata": {},
   "outputs": [
    {
     "name": "stdout",
     "output_type": "stream",
     "text": [
      "Fraction correct in the new model: 0.84\n"
     ]
    }
   ],
   "source": [
    "from tensorflow.keras.applications import VGG16\n",
    "\n",
    "\n",
    "vgg16_model = VGG16(weights='input/vgg16/vgg16_weights_tf_dim_ordering_tf_kernels.h5')\n",
    "\n",
    "# we only apply the model on 50 of the images to speed up the process\n",
    "\n",
    "vgg16_accuracy = calc_accuracy(vgg16_model, hot_dog_paths[:50], not_hot_dog_paths[:50])\n",
    "\n",
    "print(\"Fraction correct in the new model: {}\".format(vgg16_accuracy))"
   ]
  },
  {
   "cell_type": "markdown",
   "metadata": {},
   "source": [
    "## Transfer Learning to apply an existing pretrained model to a new set of images:\n",
    "\n",
    "### Distinguishing between the sideways and upright images"
   ]
  },
  {
   "cell_type": "code",
   "execution_count": 7,
   "metadata": {},
   "outputs": [],
   "source": [
    "import tensorflow as tf\n",
    "from tensorflow.keras.models import Sequential\n",
    "from tensorflow.keras.layers import Dense, Flatten, GlobalAveragePooling2D\n",
    "\n",
    "num_classes = 2\n",
    "resnet_weights_path = 'input/resnet50/resnet50_weights_tf_dim_ordering_tf_kernels_notop.h5'\n",
    "\n",
    "my_new_model = Sequential()\n",
    "\n",
    "# we do not include the prediction layer with setting include_top to False\n",
    "\n",
    "my_new_model.add(ResNet50(include_top=False, pooling='avg', weights=resnet_weights_path))\n",
    "my_new_model.add(Dense(num_classes, activation='softmax'))\n",
    "\n",
    "# Indicate not to train the first layer which is already pretrained\n",
    "\n",
    "my_new_model.layers[0].trainable = False"
   ]
  },
  {
   "cell_type": "code",
   "execution_count": 8,
   "metadata": {},
   "outputs": [],
   "source": [
    "my_new_model.compile(optimizer='sgd', \n",
    "                     loss='categorical_crossentropy', \n",
    "                     metrics=['accuracy'])"
   ]
  },
  {
   "cell_type": "code",
   "execution_count": 9,
   "metadata": {},
   "outputs": [
    {
     "name": "stdout",
     "output_type": "stream",
     "text": [
      "Found 220 images belonging to 2 classes.\n",
      "Found 217 images belonging to 2 classes.\n",
      "Epoch 1/1\n",
      "22/22 [==============================] - 84s 4s/step - loss: 0.5312 - acc: 0.7136 - val_loss: 0.4227 - val_acc: 0.8125\n"
     ]
    }
   ],
   "source": [
    "from tensorflow.keras.applications.resnet50 import preprocess_input\n",
    "from tensorflow.keras.preprocessing.image import ImageDataGenerator\n",
    "tf.logging.set_verbosity(tf.logging.ERROR)\n",
    "\n",
    "image_size = 224\n",
    "\n",
    "data_generator = ImageDataGenerator(preprocess_input)\n",
    "\n",
    "\n",
    "train_generator = data_generator.flow_from_directory(\n",
    "                                        directory='input/dogs-gone-sideways/images/train',\n",
    "                                        target_size=(image_size, image_size),\n",
    "                                        batch_size=10,\n",
    "                                        class_mode='categorical')\n",
    "\n",
    "validation_generator = data_generator.flow_from_directory(\n",
    "                                        directory='input/dogs-gone-sideways/images/val',\n",
    "                                        target_size=(image_size, image_size),\n",
    "                                        class_mode='categorical')\n",
    "\n",
    "fit_stats = my_new_model.fit_generator(train_generator,\n",
    "                                       steps_per_epoch=22,\n",
    "                                       validation_data=validation_generator,\n",
    "                                       validation_steps=1)"
   ]
  },
  {
   "cell_type": "markdown",
   "metadata": {},
   "source": [
    "### Data Augmentation in the imagedatagenerator: fliping horizontally and shifting along width and height of the image"
   ]
  },
  {
   "cell_type": "code",
   "execution_count": 11,
   "metadata": {},
   "outputs": [],
   "source": [
    "image_size = 224\n",
    "data_generator_with_aug = ImageDataGenerator(preprocessing_function=preprocess_input,\n",
    "                                              horizontal_flip = True,\n",
    "                                              width_shift_range = 0.1,\n",
    "                                              height_shift_range = 0.1)\n",
    "            \n",
    "data_generator_no_aug = ImageDataGenerator(preprocessing_function=preprocess_input)"
   ]
  },
  {
   "cell_type": "code",
   "execution_count": 12,
   "metadata": {},
   "outputs": [
    {
     "name": "stdout",
     "output_type": "stream",
     "text": [
      "Found 220 images belonging to 2 classes.\n",
      "Found 217 images belonging to 2 classes.\n",
      "Epoch 1/3\n",
      "19/19 [==============================] - 142s 7s/step - loss: 0.5100 - acc: 0.7548 - val_loss: 0.2500 - val_acc: 0.9124\n",
      "Epoch 2/3\n",
      "19/19 [==============================] - 125s 7s/step - loss: 0.2073 - acc: 0.9517 - val_loss: 0.1615 - val_acc: 0.9355\n",
      "Epoch 3/3\n",
      "19/19 [==============================] - 140s 7s/step - loss: 0.1967 - acc: 0.9341 - val_loss: 0.3051 - val_acc: 0.8618\n"
     ]
    },
    {
     "data": {
      "text/plain": [
       "<tensorflow.python.keras.callbacks.History at 0xb34ac21d0>"
      ]
     },
     "execution_count": 12,
     "metadata": {},
     "output_type": "execute_result"
    }
   ],
   "source": [
    "\n",
    "train_generator = data_generator_with_aug.flow_from_directory(\n",
    "        directory = 'input/dogs-gone-sideways/images/train',\n",
    "        target_size=(image_size, image_size),\n",
    "        batch_size=12,\n",
    "        class_mode='categorical')\n",
    "\n",
    "\n",
    "validation_generator = data_generator_no_aug.flow_from_directory(\n",
    "        directory = 'input/dogs-gone-sideways/images/val',\n",
    "        target_size=(image_size, image_size),\n",
    "        class_mode='categorical')\n",
    "\n",
    "my_new_model.fit_generator(\n",
    "        train_generator,\n",
    "        epochs = 3,\n",
    "        steps_per_epoch=19,\n",
    "        validation_data=validation_generator)"
   ]
  },
  {
   "cell_type": "markdown",
   "metadata": {},
   "source": [
    "### Apply deep learning on a set of fashion images from scratch"
   ]
  },
  {
   "cell_type": "code",
   "execution_count": 24,
   "metadata": {},
   "outputs": [],
   "source": [
    "import numpy as np\n",
    "from sklearn.model_selection import train_test_split\n",
    "from tensorflow import keras\n",
    "\n",
    "img_rows, img_cols = 28, 28\n",
    "num_classes = 10\n",
    "\n",
    "# Extract labels and reshape pixel intensity data to 28*28 \n",
    "\n",
    "def prep_data(raw):\n",
    "    y = raw[:, 0]\n",
    "    out_y = keras.utils.to_categorical(y, num_classes)\n",
    "    \n",
    "    x = raw[:,1:]\n",
    "    num_images = raw.shape[0]\n",
    "    out_x = x.reshape(num_images, img_rows, img_cols, 1)\n",
    "    out_x = out_x / 255\n",
    "    return out_x, out_y\n",
    "\n",
    "fashion_file = \"input/fashionmnist/fashion-mnist_train.csv\"\n",
    "fashion_data = np.loadtxt(fashion_file, skiprows=1, delimiter=',')\n",
    "x, y = prep_data(fashion_data)"
   ]
  },
  {
   "cell_type": "code",
   "execution_count": 25,
   "metadata": {},
   "outputs": [],
   "source": [
    "fashion_model = Sequential()"
   ]
  },
  {
   "cell_type": "markdown",
   "metadata": {},
   "source": [
    "### Adding multiple convolutional layers "
   ]
  },
  {
   "cell_type": "code",
   "execution_count": 26,
   "metadata": {},
   "outputs": [],
   "source": [
    "# only the first convolutional layer needs to get the input shape\n",
    "\n",
    "fashion_model.add(Conv2D(12, kernel_size=(3, 3), activation='relu', input_shape=(img_rows, img_cols, 1)))"
   ]
  },
  {
   "cell_type": "code",
   "execution_count": 16,
   "metadata": {},
   "outputs": [],
   "source": [
    "fashion_model.add(Conv2D(20, kernel_size=(3, 3), activation='relu'))\n",
    "fashion_model.add(Conv2D(20, kernel_size=(3, 3), activation='relu'))\n",
    "\n",
    "# convert output of the previous layers to a 1D array\n",
    "\n",
    "fashion_model.add(Flatten())\n",
    "fashion_model.add(Dense(100, activation='relu'))\n",
    "fashion_model.add(Dense(num_classes, activation='softmax'))"
   ]
  },
  {
   "cell_type": "code",
   "execution_count": 17,
   "metadata": {},
   "outputs": [],
   "source": [
    "fashion_model.compile(optimizer='adam', \n",
    "                     loss='categorical_crossentropy', \n",
    "                     metrics=['accuracy'])"
   ]
  },
  {
   "cell_type": "code",
   "execution_count": 18,
   "metadata": {},
   "outputs": [
    {
     "name": "stdout",
     "output_type": "stream",
     "text": [
      "Train on 48000 samples, validate on 12000 samples\n",
      "Epoch 1/4\n",
      "48000/48000 [==============================] - 91s 2ms/step - loss: 0.4731 - acc: 0.8288 - val_loss: 0.3632 - val_acc: 0.8688\n",
      "Epoch 2/4\n",
      "48000/48000 [==============================] - 78s 2ms/step - loss: 0.2991 - acc: 0.8909 - val_loss: 0.2923 - val_acc: 0.8927\n",
      "Epoch 3/4\n",
      "48000/48000 [==============================] - 77s 2ms/step - loss: 0.2448 - acc: 0.9113 - val_loss: 0.2618 - val_acc: 0.9088\n",
      "Epoch 4/4\n",
      "48000/48000 [==============================] - 86s 2ms/step - loss: 0.2021 - acc: 0.9256 - val_loss: 0.2596 - val_acc: 0.9109\n"
     ]
    },
    {
     "data": {
      "text/plain": [
       "<tensorflow.python.keras.callbacks.History at 0xb34a9fa90>"
      ]
     },
     "execution_count": 18,
     "metadata": {},
     "output_type": "execute_result"
    }
   ],
   "source": [
    "fashion_model.fit(x, y,\n",
    "          batch_size=100,\n",
    "          epochs=4,\n",
    "          validation_split = 0.2)"
   ]
  },
  {
   "cell_type": "markdown",
   "metadata": {},
   "source": [
    "### Playing with the setups of the convolution layers and checking the outcome"
   ]
  },
  {
   "cell_type": "code",
   "execution_count": 19,
   "metadata": {},
   "outputs": [
    {
     "name": "stdout",
     "output_type": "stream",
     "text": [
      "Train on 48000 samples, validate on 12000 samples\n",
      "Epoch 1/4\n",
      "48000/48000 [==============================] - 37s 766us/step - loss: 0.4756 - acc: 0.8316 - val_loss: 0.3376 - val_acc: 0.8783\n",
      "Epoch 2/4\n",
      "48000/48000 [==============================] - 33s 681us/step - loss: 0.3015 - acc: 0.8921 - val_loss: 0.3113 - val_acc: 0.8914\n",
      "Epoch 3/4\n",
      "48000/48000 [==============================] - 34s 715us/step - loss: 0.2437 - acc: 0.9126 - val_loss: 0.2811 - val_acc: 0.8982\n",
      "Epoch 4/4\n",
      "48000/48000 [==============================] - 38s 792us/step - loss: 0.2011 - acc: 0.9279 - val_loss: 0.2854 - val_acc: 0.9008\n"
     ]
    },
    {
     "data": {
      "text/plain": [
       "<tensorflow.python.keras.callbacks.History at 0x1ad561f940>"
      ]
     },
     "execution_count": 19,
     "metadata": {},
     "output_type": "execute_result"
    }
   ],
   "source": [
    "second_fashion_model = Sequential()\n",
    "second_fashion_model.add(Conv2D(10, kernel_size=(2, 2),\n",
    "                 activation='relu',\n",
    "                 input_shape=(img_rows, img_cols, 1)))\n",
    "\n",
    "second_fashion_model.add(Conv2D(20, kernel_size=(2, 2), activation='relu'))\n",
    "second_fashion_model.add(Flatten())\n",
    "second_fashion_model.add(Dense(100, activation='relu'))\n",
    "second_fashion_model.add(Dense(num_classes, activation='softmax'))\n",
    "\n",
    "second_fashion_model.compile(optimizer='adam', \n",
    "                     loss='categorical_crossentropy', \n",
    "                     metrics=['accuracy'])\n",
    "\n",
    "second_fashion_model.fit(x, y,\n",
    "          batch_size=100,\n",
    "          epochs=4,\n",
    "          validation_split = 0.2)"
   ]
  },
  {
   "cell_type": "markdown",
   "metadata": {},
   "source": [
    "### Increasing Stride size  and applying 50% Dropouts to the convolutional layers  to avoid overfittling and increase speed"
   ]
  },
  {
   "cell_type": "code",
   "execution_count": 21,
   "metadata": {},
   "outputs": [
    {
     "name": "stdout",
     "output_type": "stream",
     "text": [
      "Train on 48000 samples, validate on 12000 samples\n",
      "Epoch 1/3\n",
      "48000/48000 [==============================] - 88s 2ms/step - loss: 0.4037 - acc: 0.8538 - val_loss: 0.3159 - val_acc: 0.8857\n",
      "Epoch 2/3\n",
      "48000/48000 [==============================] - 82s 2ms/step - loss: 0.2578 - acc: 0.9046 - val_loss: 0.2710 - val_acc: 0.8984\n",
      "Epoch 3/3\n",
      "48000/48000 [==============================] - 81s 2ms/step - loss: 0.1938 - acc: 0.9284 - val_loss: 0.2686 - val_acc: 0.9041\n"
     ]
    },
    {
     "data": {
      "text/plain": [
       "<tensorflow.python.keras.callbacks.History at 0xb49f6f908>"
      ]
     },
     "execution_count": 21,
     "metadata": {},
     "output_type": "execute_result"
    }
   ],
   "source": [
    "from tensorflow.keras.layers import Dense, Flatten, Conv2D, Dropout\n",
    "\n",
    "batch_size = 16\n",
    "\n",
    "fashion_model = Sequential()\n",
    "fashion_model.add(Conv2D(16, kernel_size=(3, 3),\n",
    "                 activation='relu',\n",
    "                 input_shape=(img_rows, img_cols, 1)))\n",
    "fashion_model.add(Conv2D(16, (3, 3), activation='relu'))\n",
    "fashion_model.add(Flatten())\n",
    "fashion_model.add(Dense(128, activation='relu'))\n",
    "fashion_model.add(Dense(num_classes, activation='softmax'))\n",
    "\n",
    "fashion_model.compile(loss=keras.losses.categorical_crossentropy,\n",
    "              optimizer='adam',\n",
    "              metrics=['accuracy'])\n",
    "\n",
    "fashion_model.fit(x, y,\n",
    "          batch_size=batch_size,\n",
    "          epochs=3,\n",
    "          validation_split = 0.2)"
   ]
  },
  {
   "cell_type": "code",
   "execution_count": 27,
   "metadata": {},
   "outputs": [
    {
     "name": "stdout",
     "output_type": "stream",
     "text": [
      "Train on 48000 samples, validate on 12000 samples\n",
      "Epoch 1/3\n",
      "48000/48000 [==============================] - 47s 978us/step - loss: 0.5476 - acc: 0.7984 - val_loss: 0.3806 - val_acc: 0.8648\n",
      "Epoch 2/3\n",
      "48000/48000 [==============================] - 44s 919us/step - loss: 0.3995 - acc: 0.8518 - val_loss: 0.3530 - val_acc: 0.8701\n",
      "Epoch 3/3\n",
      "48000/48000 [==============================] - 42s 867us/step - loss: 0.3510 - acc: 0.8681 - val_loss: 0.3020 - val_acc: 0.8891\n"
     ]
    },
    {
     "data": {
      "text/plain": [
       "<tensorflow.python.keras.callbacks.History at 0xb699218d0>"
      ]
     },
     "execution_count": 27,
     "metadata": {},
     "output_type": "execute_result"
    }
   ],
   "source": [
    "fashion_model_1 = Sequential()\n",
    "fashion_model_1.add(Conv2D(16, kernel_size=(3, 3),\n",
    "                 activation='relu',\n",
    "                 input_shape=(img_rows, img_cols, 1)))\n",
    "fashion_model_1.add(Dropout(0.5))\n",
    "fashion_model_1.add(Conv2D(16, (3, 3), activation='relu', strides=2))\n",
    "fashion_model_1.add(Dropout(0.5))\n",
    "fashion_model_1.add(Flatten())\n",
    "fashion_model_1.add(Dense(128, activation='relu'))\n",
    "fashion_model_1.add(Dense(num_classes, activation='softmax'))\n",
    "\n",
    "fashion_model_1.compile(loss=keras.losses.categorical_crossentropy,\n",
    "              optimizer='adam',\n",
    "              metrics=['accuracy'])\n",
    "\n",
    "fashion_model_1.fit(x, y,\n",
    "          batch_size=batch_size,\n",
    "          epochs=3,\n",
    "          validation_split = 0.2) "
   ]
  }
 ],
 "metadata": {
  "kernelspec": {
   "display_name": "Python 3",
   "language": "python",
   "name": "python3"
  },
  "language_info": {
   "codemirror_mode": {
    "name": "ipython",
    "version": 3
   },
   "file_extension": ".py",
   "mimetype": "text/x-python",
   "name": "python",
   "nbconvert_exporter": "python",
   "pygments_lexer": "ipython3",
   "version": "3.6.8"
  }
 },
 "nbformat": 4,
 "nbformat_minor": 2
}
